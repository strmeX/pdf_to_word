{
 "cells": [
  {
   "cell_type": "code",
   "execution_count": 41,
   "metadata": {},
   "outputs": [],
   "source": [
    "# Import module\n",
    "import groupdocs_conversion_cloud"
   ]
  },
  {
   "cell_type": "code",
   "execution_count": 42,
   "metadata": {},
   "outputs": [],
   "source": [
    "app_sid = \"710e270a-139a-4ff9-b1c5-ff609a06643e\"\n",
    "app_key = \"285359e9b5bb7b502fa69012cf5228cc\"\n",
    "\n",
    "# Create instance of the API\n",
    "convert_api = groupdocs_conversion_cloud.ConvertApi.from_keys(app_sid, app_key)\n",
    "file_api = groupdocs_conversion_cloud.FileApi.from_keys(app_sid, app_key)"
   ]
  },
  {
   "cell_type": "code",
   "execution_count": 43,
   "metadata": {},
   "outputs": [],
   "source": [
    "#upload source file to storage\n",
    "    filename = 'sourmail.pdf'\n",
    "    remote_name = 'sourmail.pdf'\n",
    "    output_name= 'sample.docx'\n",
    "    strformat='docx'\n",
    "\n",
    "    request_upload = groupdocs_conversion_cloud.UploadFileRequest(remote_name,filename)\n",
    "    response_upload = file_api.upload_file(request_upload)\n",
    "\n",
    "    \n",
    "\n",
    "        "
   ]
  },
  {
   "cell_type": "code",
   "execution_count": 44,
   "metadata": {},
   "outputs": [
    {
     "name": "stdout",
     "output_type": "stream",
     "text": [
      "Document converted successfully: [{'name': 'sample.docx',\n",
      " 'path': 'sample.docx',\n",
      " 'size': 2805007,\n",
      " 'url': 'https://api.groupdocs.cloud/v2.0/conversion/storage/file/sample.docx'}]\n"
     ]
    }
   ],
   "source": [
    "#converting the file\n",
    "        settings = groupdocs_conversion_cloud.ConvertSettings()\n",
    "        settings.file_path =remote_name\n",
    "        settings.format = strformat\n",
    "        settings.output_path = output_name\n",
    "        \n",
    "        loadOptions = groupdocs_conversion_cloud.PdfLoadOptions()\n",
    "        loadOptions.hide_pdf_annotations = True\n",
    "        loadOptions.remove_embedded_files = False\n",
    "        loadOptions.flatten_all_fields = True\n",
    "\n",
    "        settings.load_options = loadOptions\n",
    "\n",
    "        convertOptions = groupdocs_conversion_cloud.DocxConvertOptions()\n",
    "        convertOptions.from_page = 1\n",
    "        convertOptions.pages_count = 1\n",
    "            \n",
    "        settings.convert_options = convertOptions\n",
    "                \n",
    "        request = groupdocs_conversion_cloud.ConvertDocumentRequest(settings)\n",
    "        response = convert_api.convert_document(request)\n",
    "\n",
    "        print(\"Document converted successfully: \" + str(response))\n",
    "        except groupdocs_conversion_cloud.ApiException as e:\n",
    "        print(\"Exception when calling get_supported_conversion_types: {0}\".format(e.message))"
   ]
  },
  {
   "cell_type": "code",
   "execution_count": null,
   "metadata": {},
   "outputs": [],
   "source": []
  }
 ],
 "metadata": {
  "kernelspec": {
   "display_name": "Python 3",
   "language": "python",
   "name": "python3"
  },
  "language_info": {
   "codemirror_mode": {
    "name": "ipython",
    "version": 3
   },
   "file_extension": ".py",
   "mimetype": "text/x-python",
   "name": "python",
   "nbconvert_exporter": "python",
   "pygments_lexer": "ipython3",
   "version": "3.6.7"
  }
 },
 "nbformat": 4,
 "nbformat_minor": 2
}
